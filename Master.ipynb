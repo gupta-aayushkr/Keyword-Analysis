{
 "cells": [
  {
   "cell_type": "markdown",
   "metadata": {},
   "source": [
    "Only Run to Create a MasterSheet that contains values of all the Keywords"
   ]
  },
  {
   "cell_type": "code",
   "execution_count": null,
   "metadata": {},
   "outputs": [],
   "source": [
    "import pandas as pd\n",
    "all_csv_files = glob.glob('CSV Files/*.{}'.format('csv'))\n",
    "\n",
    "MasterSheet = pd.DataFrame(columns=['Month', '1', '2', '3', '4', '5', '6', '7', '8','9', '10', '11', '12'])\n",
    "\n",
    "for f in all_csv_files:\n",
    "    df = pd.read_csv(f)\n",
    "    third_column = df.iloc[:, 1]\n",
    "    last_12_columns = df.iloc[:, -12:]\n",
    "    concatenated_df = pd.concat([third_column, last_12_columns], axis=1)\n",
    "    concatenated_df.columns = MasterSheet.columns\n",
    "    MasterSheet = pd.concat([MasterSheet, concatenated_df], ignore_index=True)\n",
    "\n",
    "MasterSheet.to_csv(\"CSV Files/MasterSheet.csv\")"
   ]
  }
 ],
 "metadata": {
  "language_info": {
   "name": "python"
  },
  "orig_nbformat": 4
 },
 "nbformat": 4,
 "nbformat_minor": 2
}
